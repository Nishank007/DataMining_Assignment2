{
 "cells": [
  {
   "cell_type": "markdown",
   "metadata": {},
   "source": [
    "## Assignment 2: Overfitting using Higher Order Linear Regression\n",
    "\n",
    "### Name:- Nishank Gujar\n",
    "### UTA ID:- 1001861756"
   ]
  },
  {
   "cell_type": "markdown",
   "metadata": {},
   "source": [
    "<b><u>References</u></b>\n",
    "<b><div class=\"alert-success\"> Green :- My Contribution </div>\n",
    "<div class=\"alert-danger\"> Red :- CSE-5334-Data Mining\"Gradient Descent.pdf\" </div>\n",
    "<div class=\"alert-warning\"> Yellow :- IBM \"https://www.ibm.com/cloud/learn/overfitting\" \"https://www.ibm.com/cloud/learn/underfitting\" </div>\n",
    "<div class=\"alert-info\"> Blue :- TBD </div>"
   ]
  },
  {
   "cell_type": "markdown",
   "metadata": {},
   "source": [
    "### Overfitting\n",
    "<div class=\"alert-warning\"> <b>Overfitting</b> is a concept in data science, which occurs when a statistical model fits exactly against its training data.<br>\n",
    "When the model memorizes the noise and fits too closely to the training set, the model becomes <b>overfitted</b>, and it is unable to generalize well to new data.</div> "
   ]
  },
  {
   "cell_type": "markdown",
   "metadata": {},
   "source": [
    "### Underfitting\n",
    "<div class=\"alert-warning\"> <b>Underfitting</b> is a scenario in data science where a data model is unable to capture the relationship between the input and output variables accurately, generating a high error rate on both the training set and unseen data..</div> "
   ]
  },
  {
   "cell_type": "markdown",
   "metadata": {},
   "source": [
    "### Overfitting V/S Underfitting\n",
    "<div class=\"alert-warning\"> If overtraining or model complexity results in <b>overfitting</b>, then a logical prevention response would be either to pause training process earlier, also known as, “early stopping” or to reduce complexity in the model by eliminating less relevant inputs. However, if you pause too early or exclude too many important features, you may encounter the opposite problem, and instead, you may <b>underfit</b> your model. <b>Underfitting</b> occurs when the model has not trained for enough time or the input variables are not significant enough to determine a meaningful relationship between the input and output variables.</div><br>\n",
    "<center><img src=\"https://1.cms.s81c.com/sites/default/files/2021-03-03/model-over-fitting.png\"></center>"
   ]
  },
  {
   "cell_type": "markdown",
   "metadata": {},
   "source": [
    "<div class=\"alert-warning\">In both scenarios, the model cannot establish the dominant trend within the training dataset. As a result, <b>underfitting</b> also generalizes poorly to unseen data. However, unlike <b>overfitting</b>, <b>underfitted</b> models experience high bias and less variance within their predictions. This illustrates the bias-variance tradeoff, which occurs when as an <b>underfitted</b> model shifted to an <b>overfitted</b> state. As the model learns, its bias reduces, but it can increase in variance as becomes <b>overfitted</b>. When fitting a model, the goal is to find the <b>“sweet spot”</b> in between <b>underfitting</b> and <b>overfitting</b>, so that it can establish a dominant trend and apply it broadly to new datasets.</div><br>\n",
    "<center><img src=\"https://1.cms.s81c.com/sites/default/files/2021-03-03/classic%20overfitting_0.jpg\"></center>"
   ]
  },
  {
   "cell_type": "markdown",
   "metadata": {},
   "source": [
    "<b><div class=\"alert-success\"> Libraries numpy and pandas are imported as np and pd. <br>\n",
    " Library matplotlib is imported to plot graphs and scatterplots.</div> "
   ]
  },
  {
   "cell_type": "code",
   "execution_count": 1,
   "metadata": {
    "id": "zB7lpNV8Iha2"
   },
   "outputs": [],
   "source": [
    "import numpy as np\n",
    "import matplotlib.pyplot as plt\n",
    "import pandas as pd"
   ]
  },
  {
   "cell_type": "markdown",
   "metadata": {},
   "source": [
    "<b><div class=\"alert-success\"> We Generate 20 data pairs (X, Y) using y = sin(2*pi*X) + 0.1 * N .<br>\n",
    " Using Normal Gaussian Distribution, we normalize the weights using random noise.<br>\n",
    "    The Values of Noise, X data and Y data are being printed below.</div>"
   ]
  },
  {
   "cell_type": "code",
   "execution_count": 2,
   "metadata": {
    "id": "Q0PfKfWFIxFb",
    "tags": []
   },
   "outputs": [
    {
     "name": "stdout",
     "output_type": "stream",
     "text": [
      "Noise \n",
      " [ 0.1042381   0.17585411  0.04885432  0.02204849  0.005079    0.16966455\n",
      " -0.06668119 -0.05255888  0.0135676   0.13102552]\n",
      "X data \n",
      " [0.         0.11111111 0.22222222 0.33333333 0.44444444 0.55555556\n",
      " 0.66666667 0.77777778 0.88888889 1.        ]\n",
      "Y data \n",
      " [ 0.01042381  0.66037302  0.98969319  0.86823025  0.34252804 -0.32505369\n",
      " -0.87269352 -0.99006364 -0.64143085  0.01310255]\n"
     ]
    }
   ],
   "source": [
    "size = 10\n",
    "x_data = np.linspace(0, 1, size)\n",
    "noise = np.random.normal(0,0.1,size)\n",
    "y_data = np.sin(x_data * 2 * np.pi) + 0.1 * noise\n",
    "\n",
    "X_test = x_data[0::2]\n",
    "X_train = x_data[1::2]\n",
    "Y_test = y_data[0::2]\n",
    "Y_train = y_data[1::2]\n",
    "\n",
    "n = len(X_train)\n",
    "\n",
    "print(\"Noise \\n\",noise)\n",
    "print(\"X data \\n\",x_data)\n",
    "print(\"Y data \\n\",y_data)"
   ]
  },
  {
   "cell_type": "markdown",
   "metadata": {},
   "source": [
    "<b><div class=\"alert-success\"> The flow of data after normalizing it is shown below using scatterplot and a line passing through them.</div>"
   ]
  },
  {
   "cell_type": "code",
   "execution_count": 3,
   "metadata": {},
   "outputs": [
    {
     "data": {
      "image/png": "[encoded data removed]",
      "text/plain": [
       "<Figure size 432x288 with 1 Axes>"
      ]
     },
     "metadata": {
      "needs_background": "light"
     },
     "output_type": "display_data"
    }
   ],
   "source": [
    "plot1 = plt.scatter(x_data, y_data)\n",
    "plt.plot(x_data, y_data, color='lime')\n",
    "plt.show()"
   ]
  },
  {
   "cell_type": "markdown",
   "metadata": {},
   "source": [
    "<b><div class=\"alert-danger\"> Model for forward passing in gradient descent. </div>"
   ]
  },
  {
   "cell_type": "code",
   "execution_count": 4,
   "metadata": {
    "id": "yzAhhbvjI48A"
   },
   "outputs": [],
   "source": [
    "def forward(x):\n",
    "  return x * w"
   ]
  },
  {
   "cell_type": "markdown",
   "metadata": {},
   "source": [
    "<b><div class=\"alert-danger\"> Loss function in gradient descent. </div>"
   ]
  },
  {
   "cell_type": "code",
   "execution_count": 5,
   "metadata": {
    "id": "3DhieU_cI6hy"
   },
   "outputs": [],
   "source": [
    "def loss(x, y):\n",
    "  y_pred = forward(x)\n",
    "  return (y_pred - y) * (y_pred - y)"
   ]
  },
  {
   "cell_type": "markdown",
   "metadata": {},
   "source": [
    "<b><div class=\"alert-success\"> Compute gradient using <i>d.loss/d.w=((y-xw)^2)/n</i> </div>"
   ]
  },
  {
   "cell_type": "code",
   "execution_count": 6,
   "metadata": {
    "id": "1_312aN5I9sT"
   },
   "outputs": [],
   "source": [
    "def gradient(x, y):\n",
    "  return ((y-x*w)**2)/n"
   ]
  },
  {
   "cell_type": "markdown",
   "metadata": {},
   "source": [
    "<b><div class=\"alert-success\"> Using gradient descent, we generate weight and loss of each learning iteration.</div>"
   ]
  },
  {
   "cell_type": "code",
   "execution_count": 7,
   "metadata": {
    "colab": {
     "base_uri": "https://localhost:8080/"
    },
    "id": "739EJwFSJCNE",
    "outputId": "b0fbc87b-6ea6-46d8-a3cb-f49b337c1d62",
    "tags": []
   },
   "outputs": [
    {
     "name": "stdout",
     "output_type": "stream",
     "text": [
      "progress: 0 w= -0.009046727930964182 loss= 0.0004905905969798\n",
      "progress: 1 w= -0.01804590959664679 loss= 0.0009702266535369899\n",
      "progress: 2 w= -0.026998931479034226 loss= 0.0016081289691074249\n",
      "progress: 3 w= -0.035907155415099284 loss= 0.0024019514109998295\n",
      "progress: 4 w= -0.04477191949661211 loss= 0.0033494544393051725\n",
      "progress: 5 w= -0.05359453894193614 loss= 0.004448501926625242\n",
      "progress: 6 w= -0.06237630694107616 loss= 0.005697058131778816\n",
      "progress: 7 w= -0.0711184954751898 loss= 0.007093184820781725\n",
      "progress: 8 w= -0.07982235611172073 loss= 0.008635038528774654\n",
      "progress: 9 w= -0.08848912077626261 loss= 0.010320867956928997\n"
     ]
    }
   ],
   "source": [
    "w = 0\n",
    "weights = []\n",
    "grado = []\n",
    "\n",
    "for epoch in range(size):\n",
    "    for x_val, y_val in zip(x_data, y_data):\n",
    "        grad = gradient(x_val, y_val)\n",
    "        w = w - 0.01 * grad\n",
    "        l = loss(x_val, y_val)\n",
    "    print(\"progress:\", epoch, \"w=\", w, \"loss=\", l)\n",
    "    weights.append(w)  \n",
    "    grado.append(grad)"
   ]
  },
  {
   "cell_type": "markdown",
   "metadata": {},
   "source": [
    "<b><div class=\"alert-success\"> Degree 0</div>"
   ]
  },
  {
   "cell_type": "code",
   "execution_count": 8,
   "metadata": {},
   "outputs": [
    {
     "data": {
      "image/png": "[encoded data removed]",
      "text/plain": [
       "<Figure size 432x288 with 1 Axes>"
      ]
     },
     "metadata": {
      "needs_background": "light"
     },
     "output_type": "display_data"
    }
   ],
   "source": [
    "x_axis = np.linspace(0,1,10)\n",
    "plt.title('M = 0')\n",
    "plot1 = plt.scatter(x_data, y_data)\n",
    "plt.plot(x_data, y_data, color='lime')\n",
    "plot2 = plt.plot(x_axis, grado, color='red')\n",
    "plt.show()"
   ]
  },
  {
   "cell_type": "markdown",
   "metadata": {},
   "source": [
    "<b><div class=\"alert-success\"> Degree 1</div>"
   ]
  },
  {
   "cell_type": "code",
   "execution_count": 9,
   "metadata": {},
   "outputs": [
    {
     "name": "stdout",
     "output_type": "stream",
     "text": [
      "progress: 0 w= 0.9786763640269944 loss= 0.9323327866676602\n",
      "progress: 1 w= 0.9577589135223235 loss= 0.892375641555682\n",
      "progress: 2 w= 0.9372338308798789 loss= 0.854018620791096\n",
      "progress: 3 w= 0.9170879005062018 loss= 0.8171895104967395\n",
      "progress: 4 w= 0.8973084760595107 loss= 0.7818201163207925\n",
      "progress: 5 w= 0.8778834498008249 loss= 0.7478460013761309\n",
      "progress: 6 w= 0.8588012238998526 loss= 0.7152062438242445\n",
      "progress: 7 w= 0.8400506835515702 loss= 0.6838432124439101\n",
      "progress: 8 w= 0.8216211717714249 loss= 0.6537023586806393\n",
      "progress: 9 w= 0.8035024657479936 loss= 0.6247320238127199\n"
     ]
    },
    {
     "data": {
      "image/png": "[encoded data removed]",
      "text/plain": [
       "<Figure size 432x288 with 1 Axes>"
      ]
     },
     "metadata": {
      "needs_background": "light"
     },
     "output_type": "display_data"
    }
   ],
   "source": [
    "w = 1\n",
    "weights = []\n",
    "grado = []\n",
    "\n",
    "for epoch in range(size):\n",
    "    for x_val, y_val in zip(x_data, y_data):\n",
    "        grad = gradient(x_val, y_val)\n",
    "        w = w - 0.01 * grad\n",
    "        l = loss(x_val, y_val)\n",
    "    print(\"progress:\", epoch, \"w=\", w, \"loss=\", l)\n",
    "    weights.append(w)  \n",
    "    grado.append(grad)\n",
    "\n",
    "x_axis = np.linspace(0,1,10)\n",
    "plt.title('M = 1')\n",
    "plot1 = plt.scatter(x_data, y_data)\n",
    "plt.plot(x_data, y_data, color='lime')\n",
    "plot2 = plt.plot(x_axis, grado, color='red')\n",
    "plt.show()"
   ]
  },
  {
   "cell_type": "markdown",
   "metadata": {},
   "source": [
    "<b><div class=\"alert-success\"> Degree 3</div>"
   ]
  },
  {
   "cell_type": "code",
   "execution_count": 10,
   "metadata": {},
   "outputs": [
    {
     "name": "stdout",
     "output_type": "stream",
     "text": [
      "progress: 0 w= 2.913080036439626 loss= 8.409869410843397\n",
      "progress: 1 w= 2.8301296359148274 loss= 7.935641592079512\n",
      "progress: 2 w= 2.7508736924360493 loss= 7.49539081795831\n",
      "progress: 3 w= 2.675061944321115 loss= 7.086027806905069\n",
      "progress: 4 w= 2.602466228684149 loss= 6.704804250655038\n",
      "progress: 5 w= 2.5328780923531125 loss= 6.349268774271527\n",
      "progress: 6 w= 2.466106706347071 loss= 6.017229381740189\n",
      "progress: 7 w= 2.4019770398245215 loss= 5.7067213190620985\n",
      "progress: 8 w= 2.3403282565865973 loss= 5.415979480559342\n",
      "progress: 9 w= 2.2810123031044958 loss= 5.143414639613615\n"
     ]
    },
    {
     "data": {
      "image/png": "[encoded data removed]",
      "text/plain": [
       "<Figure size 432x288 with 1 Axes>"
      ]
     },
     "metadata": {
      "needs_background": "light"
     },
     "output_type": "display_data"
    }
   ],
   "source": [
    "w = 3\n",
    "weights = []\n",
    "grado = []\n",
    "\n",
    "for epoch in range(size):\n",
    "    for x_val, y_val in zip(x_data, y_data):\n",
    "        grad = gradient(x_val, y_val)\n",
    "        w = w - 0.01 * grad\n",
    "        l = loss(x_val, y_val)\n",
    "    print(\"progress:\", epoch, \"w=\", w, \"loss=\", l)\n",
    "    weights.append(w)  \n",
    "    grado.append(grad)\n",
    "\n",
    "x_axis = np.linspace(0,1,10)\n",
    "plt.title('M = 3')\n",
    "plot1 = plt.scatter(x_data, y_data)\n",
    "plt.plot(x_data, y_data, color='lime')\n",
    "plot2 = plt.plot(x_axis, grado, color='red')\n",
    "plt.show()"
   ]
  },
  {
   "cell_type": "markdown",
   "metadata": {},
   "source": [
    "<b><div class=\"alert-success\"> Degree 9</div>"
   ]
  },
  {
   "cell_type": "code",
   "execution_count": 11,
   "metadata": {},
   "outputs": [
    {
     "name": "stdout",
     "output_type": "stream",
     "text": [
      "progress: 0 w= 8.404153089085042 loss= 70.40972911761254\n",
      "progress: 1 w= 7.878928000141378 loss= 61.87120998221962\n",
      "progress: 2 w= 7.412382298580357 loss= 54.74934076965101\n",
      "progress: 3 w= 6.9951281227318 loss= 48.748681071765056\n",
      "progress: 4 w= 6.619682746627332 loss= 43.6469018693785\n",
      "progress: 5 w= 6.280007917148469 loss= 39.27410285699434\n",
      "progress: 6 w= 5.971176845584526 loss= 35.49864928907796\n",
      "progress: 7 w= 5.689129367371704 loss= 32.217280409966804\n",
      "progress: 8 w= 5.430489162392482 loss= 29.348077687555588\n",
      "progress: 9 w= 5.192425411294616 loss= 26.825385281859443\n"
     ]
    },
    {
     "data": {
      "image/png": "[encoded data removed]",
      "text/plain": [
       "<Figure size 432x288 with 1 Axes>"
      ]
     },
     "metadata": {
      "needs_background": "light"
     },
     "output_type": "display_data"
    }
   ],
   "source": [
    "w = 9\n",
    "weights = []\n",
    "grado = []\n",
    "\n",
    "for epoch in range(size):\n",
    "    for x_val, y_val in zip(x_data, y_data):\n",
    "        grad = gradient(x_val, y_val)\n",
    "        w = w - 0.01 * grad\n",
    "        l = loss(x_val, y_val)\n",
    "    print(\"progress:\", epoch, \"w=\", w, \"loss=\", l)\n",
    "    weights.append(w)  \n",
    "    grado.append(grad)\n",
    "\n",
    "x_axis = np.linspace(0,1,10)\n",
    "plt.title('M = 9')\n",
    "plot1 = plt.scatter(x_data, y_data)\n",
    "plt.plot(x_data, y_data, color='lime')\n",
    "plot2 = plt.plot(x_axis, grado, color='red')\n",
    "plt.show()"
   ]
  },
  {
   "cell_type": "markdown",
   "metadata": {},
   "source": [
    "### Best model according to me is M=9\n",
    "\n",
    "### Although I couldn't complete the assignment successfully, from what I have learnt & from what I have been taught in class, Model with degree of 9 is the best performing model when working with more number of data but tends to overfit with less amount of data."
   ]
  }
 ],
 "metadata": {
  "colab": {
   "collapsed_sections": [],
   "name": "Shank.ipynb",
   "provenance": []
  },
  "kernelspec": {
   "display_name": "Python 3",
   "language": "python",
   "name": "python3"
  },
  "language_info": {
   "codemirror_mode": {
    "name": "ipython",
    "version": 3
   },
   "file_extension": ".py",
   "mimetype": "text/x-python",
   "name": "python",
   "nbconvert_exporter": "python",
   "pygments_lexer": "ipython3",
   "version": "3.8.8"
  }
 },
 "nbformat": 4,
 "nbformat_minor": 1
}
